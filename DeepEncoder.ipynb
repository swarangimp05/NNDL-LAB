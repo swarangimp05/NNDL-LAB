{
  "nbformat": 4,
  "nbformat_minor": 0,
  "metadata": {
    "colab": {
      "name": "DeepEncoder.ipynb",
      "provenance": [],
      "authorship_tag": "ABX9TyPIOegpsbI4yGw5fQFoX5iO",
      "include_colab_link": true
    },
    "kernelspec": {
      "name": "python3",
      "display_name": "Python 3"
    },
    "language_info": {
      "name": "python"
    }
  },
  "cells": [
    {
      "cell_type": "markdown",
      "metadata": {
        "id": "view-in-github",
        "colab_type": "text"
      },
      "source": [
        "<a href=\"https://colab.research.google.com/github/swarangimp05/NNDL-LAB/blob/main/DeepEncoder.ipynb\" target=\"_parent\"><img src=\"https://colab.research.google.com/assets/colab-badge.svg\" alt=\"Open In Colab\"/></a>"
      ]
    },
    {
      "cell_type": "code",
      "execution_count": 7,
      "metadata": {
        "colab": {
          "base_uri": "https://localhost:8080/"
        },
        "id": "BNItgXpJ7rsE",
        "outputId": "221cec0f-3598-463f-c45e-5ce5597369bd"
      },
      "outputs": [
        {
          "output_type": "stream",
          "name": "stdout",
          "text": [
            "\n"
          ]
        }
      ],
      "source": [
        "import os\n",
        "os.environ[\"TF_CPP_MIN_LOG_LEVEL\"] = \"2\"\n",
        "\n",
        "import numpy as np\n",
        "import matplotlib.pyplot as plt\n",
        "import tensorflow as tf\n",
        "from tensorflow.keras.layers import Input, Dense\n",
        "from tensorflow.keras.models import Model\n",
        "from tensorflow.keras.optimizers import Adam\n",
        "from tensorflow.keras.regularizers import l1, l2\n",
        "print(\"\")"
      ]
    },
    {
      "cell_type": "markdown",
      "source": [
        "## Seeding"
      ],
      "metadata": {
        "id": "I2kM9AAn8Tp0"
      }
    },
    {
      "cell_type": "code",
      "source": [
        "\n",
        "np.random.seed(42)\n",
        "tf.random.set_seed(42)"
      ],
      "metadata": {
        "id": "yBCDsSvn8R2s"
      },
      "execution_count": 8,
      "outputs": []
    },
    {
      "cell_type": "markdown",
      "source": [
        "**Loading the MNIST dataset and then normalizing the images.**"
      ],
      "metadata": {
        "id": "OfCkRYJ48bYO"
      }
    },
    {
      "cell_type": "code",
      "source": [
        "\n",
        "dataset = tf.keras.datasets.mnist\n",
        "(x_train, y_train),(x_test, y_test) = dataset.load_data()\n",
        "x_train, x_test = x_train / 255.0, x_test / 255.0"
      ],
      "metadata": {
        "id": "CcR-lbS28Y2m"
      },
      "execution_count": 9,
      "outputs": []
    },
    {
      "cell_type": "code",
      "source": [
        "H = 28\n",
        "W = 28\n",
        "C = 1\n",
        "\n",
        "## Flattening the images.\n",
        "x_train = np.reshape(x_train, (-1, H * W * C))\n",
        "x_test = np.reshape(x_test, (-1, H * W * C))\n",
        "print(x_train.shape, x_test.shape)\n",
        "\n",
        "## Latent space\n",
        "latent_dim = 32"
      ],
      "metadata": {
        "colab": {
          "base_uri": "https://localhost:8080/"
        },
        "id": "viS290cX8lPN",
        "outputId": "2afab08a-e92d-4f0f-bbcd-3b08efe1e2e9"
      },
      "execution_count": 10,
      "outputs": [
        {
          "output_type": "stream",
          "name": "stdout",
          "text": [
            "(60000, 784) (10000, 784)\n"
          ]
        }
      ]
    },
    {
      "cell_type": "markdown",
      "source": [
        "## Building the autoencoder"
      ],
      "metadata": {
        "id": "nuRFQIPW8o5L"
      }
    },
    {
      "cell_type": "code",
      "source": [
        "\n",
        "inputs = Input(shape=(H*W*C,))\n",
        "e = Dense(256, activation=\"relu\")(inputs)\n",
        "h = Dense(latent_dim, activation=\"relu\")(e)\n",
        "d = Dense(256, activation=\"relu\")(h)\n",
        "outputs = Dense(H*W*C, activation=\"sigmoid\")(d)\n",
        "\n",
        "autoencoder = Model(inputs, outputs)\n",
        "autoencoder.compile(optimizer=Adam(1e-3), loss='binary_crossentropy')\n",
        "autoencoder.summary()"
      ],
      "metadata": {
        "colab": {
          "base_uri": "https://localhost:8080/"
        },
        "id": "DuMBX1248l06",
        "outputId": "a18d0497-b0df-4e05-a494-d62765f93b84"
      },
      "execution_count": 11,
      "outputs": [
        {
          "output_type": "stream",
          "name": "stdout",
          "text": [
            "Model: \"model_1\"\n",
            "_________________________________________________________________\n",
            " Layer (type)                Output Shape              Param #   \n",
            "=================================================================\n",
            " input_2 (InputLayer)        [(None, 784)]             0         \n",
            "                                                                 \n",
            " dense_4 (Dense)             (None, 256)               200960    \n",
            "                                                                 \n",
            " dense_5 (Dense)             (None, 32)                8224      \n",
            "                                                                 \n",
            " dense_6 (Dense)             (None, 256)               8448      \n",
            "                                                                 \n",
            " dense_7 (Dense)             (None, 784)               201488    \n",
            "                                                                 \n",
            "=================================================================\n",
            "Total params: 419,120\n",
            "Trainable params: 419,120\n",
            "Non-trainable params: 0\n",
            "_________________________________________________________________\n"
          ]
        }
      ]
    },
    {
      "cell_type": "markdown",
      "source": [
        "## Training the autoencoder"
      ],
      "metadata": {
        "id": "v44c0qGM8sUJ"
      }
    },
    {
      "cell_type": "code",
      "source": [
        "\n",
        "autoencoder.fit(\n",
        "    x_train,\n",
        "    x_train,\n",
        "    epochs=50,\n",
        "    batch_size=256,\n",
        "    shuffle=False,\n",
        "    validation_data=(x_test, x_test)\n",
        ")"
      ],
      "metadata": {
        "colab": {
          "base_uri": "https://localhost:8080/"
        },
        "id": "4JtYvusn8nzZ",
        "outputId": "aa113a8c-726b-436b-aefd-8f66bfa7ee92"
      },
      "execution_count": 12,
      "outputs": [
        {
          "output_type": "stream",
          "name": "stdout",
          "text": [
            "Epoch 1/50\n",
            "235/235 [==============================] - 4s 16ms/step - loss: 0.2201 - val_loss: 0.1520\n",
            "Epoch 2/50\n",
            "235/235 [==============================] - 5s 22ms/step - loss: 0.1324 - val_loss: 0.1166\n",
            "Epoch 3/50\n",
            "235/235 [==============================] - 5s 20ms/step - loss: 0.1115 - val_loss: 0.1050\n",
            "Epoch 4/50\n",
            "235/235 [==============================] - 3s 14ms/step - loss: 0.1026 - val_loss: 0.0990\n",
            "Epoch 5/50\n",
            "235/235 [==============================] - 3s 14ms/step - loss: 0.0981 - val_loss: 0.0957\n",
            "Epoch 6/50\n",
            "235/235 [==============================] - 3s 14ms/step - loss: 0.0952 - val_loss: 0.0936\n",
            "Epoch 7/50\n",
            "235/235 [==============================] - 3s 14ms/step - loss: 0.0931 - val_loss: 0.0917\n",
            "Epoch 8/50\n",
            "235/235 [==============================] - 3s 14ms/step - loss: 0.0915 - val_loss: 0.0903\n",
            "Epoch 9/50\n",
            "235/235 [==============================] - 3s 14ms/step - loss: 0.0902 - val_loss: 0.0893\n",
            "Epoch 10/50\n",
            "235/235 [==============================] - 3s 14ms/step - loss: 0.0891 - val_loss: 0.0882\n",
            "Epoch 11/50\n",
            "235/235 [==============================] - 3s 14ms/step - loss: 0.0882 - val_loss: 0.0872\n",
            "Epoch 12/50\n",
            "235/235 [==============================] - 3s 14ms/step - loss: 0.0873 - val_loss: 0.0864\n",
            "Epoch 13/50\n",
            "235/235 [==============================] - 3s 14ms/step - loss: 0.0866 - val_loss: 0.0857\n",
            "Epoch 14/50\n",
            "235/235 [==============================] - 3s 15ms/step - loss: 0.0859 - val_loss: 0.0852\n",
            "Epoch 15/50\n",
            "235/235 [==============================] - 3s 14ms/step - loss: 0.0853 - val_loss: 0.0847\n",
            "Epoch 16/50\n",
            "235/235 [==============================] - 3s 14ms/step - loss: 0.0848 - val_loss: 0.0843\n",
            "Epoch 17/50\n",
            "235/235 [==============================] - 3s 14ms/step - loss: 0.0844 - val_loss: 0.0839\n",
            "Epoch 18/50\n",
            "235/235 [==============================] - 4s 16ms/step - loss: 0.0839 - val_loss: 0.0834\n",
            "Epoch 19/50\n",
            "235/235 [==============================] - 3s 14ms/step - loss: 0.0835 - val_loss: 0.0831\n",
            "Epoch 20/50\n",
            "235/235 [==============================] - 3s 14ms/step - loss: 0.0832 - val_loss: 0.0829\n",
            "Epoch 21/50\n",
            "235/235 [==============================] - 3s 14ms/step - loss: 0.0829 - val_loss: 0.0827\n",
            "Epoch 22/50\n",
            "235/235 [==============================] - 3s 14ms/step - loss: 0.0826 - val_loss: 0.0825\n",
            "Epoch 23/50\n",
            "235/235 [==============================] - 3s 14ms/step - loss: 0.0823 - val_loss: 0.0823\n",
            "Epoch 24/50\n",
            "235/235 [==============================] - 3s 15ms/step - loss: 0.0819 - val_loss: 0.0820\n",
            "Epoch 25/50\n",
            "235/235 [==============================] - 3s 14ms/step - loss: 0.0815 - val_loss: 0.0818\n",
            "Epoch 26/50\n",
            "235/235 [==============================] - 3s 14ms/step - loss: 0.0812 - val_loss: 0.0816\n",
            "Epoch 27/50\n",
            "235/235 [==============================] - 3s 14ms/step - loss: 0.0810 - val_loss: 0.0814\n",
            "Epoch 28/50\n",
            "235/235 [==============================] - 3s 14ms/step - loss: 0.0807 - val_loss: 0.0813\n",
            "Epoch 29/50\n",
            "235/235 [==============================] - 3s 14ms/step - loss: 0.0805 - val_loss: 0.0812\n",
            "Epoch 30/50\n",
            "235/235 [==============================] - 3s 14ms/step - loss: 0.0803 - val_loss: 0.0810\n",
            "Epoch 31/50\n",
            "235/235 [==============================] - 3s 14ms/step - loss: 0.0801 - val_loss: 0.0808\n",
            "Epoch 32/50\n",
            "235/235 [==============================] - 3s 14ms/step - loss: 0.0799 - val_loss: 0.0805\n",
            "Epoch 33/50\n",
            "235/235 [==============================] - 3s 14ms/step - loss: 0.0797 - val_loss: 0.0803\n",
            "Epoch 34/50\n",
            "235/235 [==============================] - 3s 14ms/step - loss: 0.0796 - val_loss: 0.0801\n",
            "Epoch 35/50\n",
            "235/235 [==============================] - 3s 14ms/step - loss: 0.0794 - val_loss: 0.0800\n",
            "Epoch 36/50\n",
            "235/235 [==============================] - 3s 14ms/step - loss: 0.0793 - val_loss: 0.0799\n",
            "Epoch 37/50\n",
            "235/235 [==============================] - 3s 14ms/step - loss: 0.0791 - val_loss: 0.0797\n",
            "Epoch 38/50\n",
            "235/235 [==============================] - 3s 14ms/step - loss: 0.0790 - val_loss: 0.0796\n",
            "Epoch 39/50\n",
            "235/235 [==============================] - 3s 14ms/step - loss: 0.0789 - val_loss: 0.0795\n",
            "Epoch 40/50\n",
            "235/235 [==============================] - 3s 14ms/step - loss: 0.0788 - val_loss: 0.0794\n",
            "Epoch 41/50\n",
            "235/235 [==============================] - 3s 14ms/step - loss: 0.0787 - val_loss: 0.0793\n",
            "Epoch 42/50\n",
            "235/235 [==============================] - 3s 14ms/step - loss: 0.0786 - val_loss: 0.0792\n",
            "Epoch 43/50\n",
            "235/235 [==============================] - 3s 15ms/step - loss: 0.0785 - val_loss: 0.0792\n",
            "Epoch 44/50\n",
            "235/235 [==============================] - 3s 15ms/step - loss: 0.0784 - val_loss: 0.0791\n",
            "Epoch 45/50\n",
            "235/235 [==============================] - 3s 15ms/step - loss: 0.0783 - val_loss: 0.0790\n",
            "Epoch 46/50\n",
            "235/235 [==============================] - 3s 15ms/step - loss: 0.0782 - val_loss: 0.0790\n",
            "Epoch 47/50\n",
            "235/235 [==============================] - 3s 14ms/step - loss: 0.0781 - val_loss: 0.0789\n",
            "Epoch 48/50\n",
            "235/235 [==============================] - 3s 15ms/step - loss: 0.0781 - val_loss: 0.0789\n",
            "Epoch 49/50\n",
            "235/235 [==============================] - 4s 15ms/step - loss: 0.0780 - val_loss: 0.0788\n",
            "Epoch 50/50\n",
            "235/235 [==============================] - 3s 15ms/step - loss: 0.0779 - val_loss: 0.0788\n"
          ]
        },
        {
          "output_type": "execute_result",
          "data": {
            "text/plain": [
              "<keras.callbacks.History at 0x7f457e5d1690>"
            ]
          },
          "metadata": {},
          "execution_count": 12
        }
      ]
    },
    {
      "cell_type": "code",
      "source": [
        "test_pred_y = autoencoder.predict(x_test)"
      ],
      "metadata": {
        "id": "BSAIvvUS8wNd"
      },
      "execution_count": 13,
      "outputs": []
    },
    {
      "cell_type": "code",
      "source": [
        "n = 10  ## how many digits we will display\n",
        "plt.figure(figsize=(20, 4))\n",
        "for i in range(n):\n",
        "    ## display original\n",
        "    ax = plt.subplot(2, n, i + 1)\n",
        "    ax.set_title(\"Original Image\")\n",
        "    plt.imshow(x_test[i].reshape(H, W))\n",
        "    plt.gray()\n",
        "    ax.get_xaxis().set_visible(False)\n",
        "    ax.get_yaxis().set_visible(False)\n",
        "\n",
        "    ## display reconstruction\n",
        "    ax = plt.subplot(2, n, i + 1 + n)\n",
        "    ax.set_title(\"Predicted Image\")\n",
        "    plt.imshow(test_pred_y[i].reshape(H, W))\n",
        "    plt.gray()\n",
        "    ax.get_xaxis().set_visible(False)\n",
        "    ax.get_yaxis().set_visible(False)"
      ],
      "metadata": {
        "colab": {
          "base_uri": "https://localhost:8080/",
          "height": 264
        },
        "id": "rnZZuUXJ8yJc",
        "outputId": "73eaa84f-1148-4222-e51d-977de8305db1"
      },
      "execution_count": 14,
      "outputs": [
        {
          "output_type": "display_data",
          "data": {
            "text/plain": [
              "<Figure size 1440x288 with 20 Axes>"
            ],
            "image/png": "[encoded data removed]"
          },
          "metadata": {
            "needs_background": "light"
          }
        }
      ]
    }
  ]
}